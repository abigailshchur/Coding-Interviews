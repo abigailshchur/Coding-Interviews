{
 "cells": [
  {
   "cell_type": "markdown",
   "metadata": {},
   "source": [
    "## Chapter 1 | Arrays and Strings"
   ]
  },
  {
   "cell_type": "markdown",
   "metadata": {},
   "source": [
    "1.1 Is Unique : Determine if a string has all unique characters"
   ]
  },
  {
   "cell_type": "code",
   "execution_count": 14,
   "metadata": {
    "collapsed": true
   },
   "outputs": [],
   "source": [
    "def isUnique(s):\n",
    "    chars = set()\n",
    "    for c in s:\n",
    "        if c in chars:\n",
    "            return False\n",
    "        else:\n",
    "            chars.add(c)\n",
    "    return True\n",
    "\n",
    "def isUniqueTest():\n",
    "    notUnique = [\"hello\", \"bbb\", \"dasfaf\", \"abc333\"]\n",
    "    unique = [\"hi\", \"12345\", \"how\", \"yup\"]\n",
    "    for s in notUnique:\n",
    "        assert(not isUnique(s))\n",
    "    for s in unique:\n",
    "        assert(isUnique(s))\n",
    "\n",
    "isUniqueTest()"
   ]
  },
  {
   "cell_type": "markdown",
   "metadata": {},
   "source": [
    "1.2 Check Permutation : given two strings, decide if one is a permutation of the other"
   ]
  },
  {
   "cell_type": "code",
   "execution_count": 17,
   "metadata": {
    "collapsed": true
   },
   "outputs": [],
   "source": [
    "def isPermutation(str1, str2):\n",
    "    str1 = sorted(str1)\n",
    "    str2 = sorted(str2)\n",
    "    return str1 == str2\n",
    "\n",
    "def isPermutationTest():\n",
    "    notPerm = [(\"hi\", \"oh\"), (\"race\", \"face\")]\n",
    "    perm = [(\"hi\", \"ih\"), (\"raaace\", \"cearaa\")]\n",
    "    for (a,b) in notPerm:\n",
    "        assert(not isPermutation(a,b))\n",
    "    for (a,b) in perm:\n",
    "        assert(isPermutation(a,b))\n",
    "\n",
    "isPermutationTest()"
   ]
  },
  {
   "cell_type": "markdown",
   "metadata": {},
   "source": [
    "1.3 URLify: replace all spaces with string '%20'"
   ]
  },
  {
   "cell_type": "code",
   "execution_count": 19,
   "metadata": {
    "collapsed": true
   },
   "outputs": [],
   "source": [
    "def urlIfy(s):\n",
    "    return \"dumb question\""
   ]
  },
  {
   "cell_type": "markdown",
   "metadata": {},
   "source": [
    "1.4 Palindrome Permutation : check if string is permutation of palindrome"
   ]
  },
  {
   "cell_type": "code",
   "execution_count": 28,
   "metadata": {
    "collapsed": true
   },
   "outputs": [],
   "source": [
    "def palindromePermutation(s):\n",
    "    s = s.lower()\n",
    "    s = s.replace(\" \", \"\")\n",
    "    d = {}\n",
    "    for i in range(len(s)):\n",
    "        c = s[i]\n",
    "        if c in d:\n",
    "            d[c] += 1\n",
    "        else:\n",
    "            d[c] = 1\n",
    "    oddsAllowed = 0\n",
    "    if len(s)%2 != 0:\n",
    "        oddsAllowed = 1\n",
    "        \n",
    "    for (k,v) in d.items():\n",
    "        if v%2 != 0:\n",
    "            if oddsAllowed == 0:\n",
    "                return False\n",
    "            else:\n",
    "                oddsAllowed -= 1\n",
    "    return True\n",
    "\n",
    "def palindromePermutationTest():\n",
    "    isPalPerm = [\"racecar\", \"racrace\"]\n",
    "    notPalPerm = [\"hello\", \"byeee\"]\n",
    "    for s in isPalPerm:\n",
    "        assert(palindromePermutation(s))\n",
    "    for s in notPalPerm:\n",
    "        assert(not palindromePermutation(s))\n",
    "        \n",
    "palindromePermutationTest()"
   ]
  },
  {
   "cell_type": "markdown",
   "metadata": {},
   "source": [
    "1.5 One Away : You have 3 edits (insert, remove, replace). Given 2 strings, check if they are one edit away"
   ]
  },
  {
   "cell_type": "code",
   "execution_count": 31,
   "metadata": {
    "collapsed": true
   },
   "outputs": [],
   "source": [
    "def oneAway(str1, str2):\n",
    "    l1 = len(str1)\n",
    "    l2 = len(str2)\n",
    "    if l1 > l2:\n",
    "        temp = str1\n",
    "        str1 = str2\n",
    "        str2 = temp\n",
    "    if l1 == l2:\n",
    "        return oneAwayReplace(str1, str2)\n",
    "    elif abs(l1-l2) == 1:\n",
    "        return oneAwayInsert(str1, str2)\n",
    "    else:\n",
    "        return False\n",
    "\n",
    "def oneAwayReplace(str1, str2):\n",
    "    numEdits = 0\n",
    "    for i in range(len(str1)):\n",
    "        c1 = str1[i]\n",
    "        c2 = str2[i]\n",
    "        if c1 != c2:\n",
    "            numEdits += 1\n",
    "        if numEdits > 1:\n",
    "            return False\n",
    "    return True\n",
    "\n",
    "def oneAwayInsert(str1, str2):\n",
    "    i1 = 0\n",
    "    i2 = 0\n",
    "    numEdits = 0\n",
    "    while(i1 < len(str1)):\n",
    "        c1 = str1[i1]\n",
    "        c2 = str2[i2]\n",
    "        if c1 == c2:\n",
    "            i1 += 1\n",
    "            i2 += 1\n",
    "        else:\n",
    "            if numEdits == 1:\n",
    "                return False\n",
    "            i2 += 1\n",
    "    return True\n",
    "\n",
    "def testOneAway():\n",
    "    isOneAway = [(\"carts\", \"carbs\"), (\"car\", \"scar\"), (\"far\", \"ar\")]\n",
    "    notOneAway = [(\"cartb\", \"carbs\"), (\"car\", \"scarrr\"), (\"\", \"ar\")]\n",
    "    for a,b in isOneAway:\n",
    "        assert(oneAway(a,b))\n",
    "    for a,b in notOneAway:\n",
    "        assert(not oneAway(a,b))\n",
    "    \n",
    "testOneAway()"
   ]
  },
  {
   "cell_type": "markdown",
   "metadata": {},
   "source": [
    "1.6 String Compression : aabccccaaa  -> a2b1c5a3"
   ]
  },
  {
   "cell_type": "code",
   "execution_count": 3,
   "metadata": {},
   "outputs": [],
   "source": [
    "def stringCompr(s):\n",
    "    if len(s) < 2:\n",
    "        return s\n",
    "    sCompr = \"\"\n",
    "    lastChar = s[0]\n",
    "    currentCount = 0\n",
    "    didCompress = False\n",
    "    for c in s:\n",
    "        if c == lastChar:\n",
    "            currentCount += 1\n",
    "        else:\n",
    "            if currentCount > 1:\n",
    "                didCompress = True\n",
    "            sCompr += lastChar + str(currentCount)\n",
    "            lastChar = c\n",
    "            currentCount = 1\n",
    "    sCompr += lastChar + str(currentCount)\n",
    "    if didCompress:\n",
    "        return sCompr\n",
    "    else:\n",
    "        return s\n",
    "    \n",
    "def testStringCompr():\n",
    "    assert(stringCompr(\"hello\") == \"h1e1l2o1\")\n",
    "    assert(stringCompr(\"\") == \"\")\n",
    "    assert(stringCompr(\"a\") == \"a\")\n",
    "    assert(stringCompr(\"abc\") == \"abc\")\n",
    "    assert(stringCompr(\"aaabbbbccccd\") == \"a3b4c4d1\")\n",
    "    \n",
    "testStringCompr()"
   ]
  },
  {
   "cell_type": "markdown",
   "metadata": {},
   "source": [
    "1.7 Rotate Matrix : Given image represented by NxN matrix, where each pixel is 4 bytes, write function to rotate matrix 90 degrees"
   ]
  },
  {
   "cell_type": "code",
   "execution_count": null,
   "metadata": {
    "collapsed": true
   },
   "outputs": [],
   "source": []
  },
  {
   "cell_type": "markdown",
   "metadata": {},
   "source": [
    "1.8 Zero Matrix : If an element of an mxn matrix is 0, set entire row to 0 + column"
   ]
  },
  {
   "cell_type": "code",
   "execution_count": null,
   "metadata": {
    "collapsed": true
   },
   "outputs": [],
   "source": [
    "def zeroRow(matrix, row):\n",
    "    for i in range(len(matrix[0])):\n",
    "        matrix[row][i] = 0\n",
    "\n",
    "\n",
    "def zeroCol(matrix, col):\n",
    "    for i in range(len(matrix)):\n",
    "        matrix[i][col] = 0"
   ]
  },
  {
   "cell_type": "markdown",
   "metadata": {},
   "source": [
    "1.9 String Rotation : Assume you have isSubstring() .. write code to check if s2 is a rotation of s1 (e.g. waterbottle is a rotation of erbottlewat) Only one call to isSubstring() allowed"
   ]
  },
  {
   "cell_type": "code",
   "execution_count": 6,
   "metadata": {},
   "outputs": [],
   "source": [
    "def isSubstring(string, sub):\n",
    "    return string.find(sub) != -1\n",
    "\n",
    "def isRotation(str1, str2):\n",
    "    if len(str1) == len(str2) != 0:\n",
    "        return isSubstring(str1 + str1, str2)\n",
    "    return False\n",
    "\n",
    "def testIsRotation():\n",
    "    assert(isRotation(\"waterbottle\", \"erbottlewat\"))\n",
    "\n",
    "testIsRotation()"
   ]
  }
 ],
 "metadata": {
  "kernelspec": {
   "display_name": "Python 2",
   "language": "python",
   "name": "python2"
  },
  "language_info": {
   "codemirror_mode": {
    "name": "ipython",
    "version": 2
   },
   "file_extension": ".py",
   "mimetype": "text/x-python",
   "name": "python",
   "nbconvert_exporter": "python",
   "pygments_lexer": "ipython2",
   "version": "2.7.13"
  }
 },
 "nbformat": 4,
 "nbformat_minor": 2
}
